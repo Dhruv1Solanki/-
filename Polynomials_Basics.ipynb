{
  "nbformat": 4,
  "nbformat_minor": 0,
  "metadata": {
    "colab": {
      "provenance": [],
      "authorship_tag": "ABX9TyMhP272kNSKLijcl1PUhAac",
      "include_colab_link": true
    },
    "kernelspec": {
      "name": "python3",
      "display_name": "Python 3"
    },
    "language_info": {
      "name": "python"
    }
  },
  "cells": [
    {
      "cell_type": "markdown",
      "metadata": {
        "id": "view-in-github",
        "colab_type": "text"
      },
      "source": [
        "<a href=\"https://colab.research.google.com/github/Dhruv1Solanki/-/blob/main/Polynomials_Basics.ipynb\" target=\"_parent\"><img src=\"https://colab.research.google.com/assets/colab-badge.svg\" alt=\"Open In Colab\"/></a>"
      ]
    },
    {
      "cell_type": "markdown",
      "source": [
        "#Algebra is, to say the least, quite the step up from arithmetic.\n",
        "\n",
        "Back in 5th Grade , the hardest question we could've had was probably something along the lines of - \"What's 2 x 7 + 6/5 - 4 x 8\".\n",
        "\n",
        "But around the time of middle school , alphabets seemingly start to leak into maths.\n",
        "\n",
        "And now , we need to find this 'x' using the knowledge that \"2*x + 3/4=5\".\n",
        "This \"x\" we introduced is called a variable , which implies that it is \"unknown till we find it\".\n",
        "\n",
        "The worst part is that this stuff is actually EXTREMELY useful in real life.\n",
        "\n",
        "I'm going to assume that you probably know how to solve simple stuff like x + 3/2 = 1 using the balancing method.\n",
        "\n",
        "#But wait , there are different levels to Algebra!\n"
      ],
      "metadata": {
        "id": "2VRRoh5xj7lh"
      }
    },
    {
      "cell_type": "code",
      "source": [
        "# @title Above linear.\n",
        "print(\"Solve for x! --> \")\n",
        "print(\"x^2+2x=0, x = ?\")\n"
      ],
      "metadata": {
        "colab": {
          "base_uri": "https://localhost:8080/"
        },
        "cellView": "form",
        "id": "V0NAn9LplXvl",
        "outputId": "73e29724-93f4-4a3a-a22d-28a674f76cee"
      },
      "execution_count": null,
      "outputs": [
        {
          "output_type": "stream",
          "name": "stdout",
          "text": [
            "Solve for x! --> \n",
            "x^2+2x=0, x = ?\n"
          ]
        }
      ]
    },
    {
      "cell_type": "markdown",
      "source": [
        "Wait a minute, what's that power of 2 doing there, and what kind of algebra is this?!\n",
        "\n",
        "#Welcome to Algebra With Powers greater than 1!\n",
        "\n",
        "But that's not all -->"
      ],
      "metadata": {
        "id": "0CkaAxKYl5ph"
      }
    },
    {
      "cell_type": "code",
      "source": [
        "# @title Negative powers?! (x^-1 = 1/x)\n",
        "print(\"Solve for x!\")\n",
        "print(\"x-1/x=0, x = ?\")"
      ],
      "metadata": {
        "colab": {
          "base_uri": "https://localhost:8080/"
        },
        "cellView": "form",
        "id": "BVq6Yyfemwuv",
        "outputId": "70a0159c-d7c3-44ca-deca-7662913d73e7"
      },
      "execution_count": null,
      "outputs": [
        {
          "output_type": "stream",
          "name": "stdout",
          "text": [
            "Solve for x!\n",
            "x-1/x=0, x = ?\n"
          ]
        }
      ]
    },
    {
      "cell_type": "markdown",
      "source": [
        "#Welcome to Algebra with Powers less than 1!\n",
        "\n",
        "Don't worry though , you're not going to be dealing with these ones(for the time being). This is because the kind of algebra we'll be doing today will deal with the first type-- >"
      ],
      "metadata": {
        "id": "ShEuF9uxnFru"
      }
    },
    {
      "cell_type": "markdown",
      "source": [
        "#Welcome to Polynomials!"
      ],
      "metadata": {
        "id": "no33LNJToTBC"
      }
    },
    {
      "cell_type": "code",
      "source": [
        "# @title Definition-->\n",
        "print(\"A polynomial is -->\")\n",
        "\n",
        "print(\"An algebraic expression where--> \")\n",
        "\n",
        "print(\"The constant terms and coefficients can be any real number(0,-1,-1/12,3.14,root(2)..).\")\n",
        "print(\"The power of the variable HAS to be a whole number(0,1,2,3,4,5..)\")\n"
      ],
      "metadata": {
        "colab": {
          "base_uri": "https://localhost:8080/"
        },
        "cellView": "form",
        "id": "KNK0yhT7okmF",
        "outputId": "d5191224-615b-430c-91f6-53227b8291d1"
      },
      "execution_count": null,
      "outputs": [
        {
          "output_type": "stream",
          "name": "stdout",
          "text": [
            "A polynomial is -->\n",
            "An algebraic expression where--> \n",
            "The constant terms and coefficients can be any real number(0,-1,-1/12,3.14,root(2)..).\n",
            "The power of the variable HAS to be a whole number(0,1,2,3,4,5..)\n"
          ]
        }
      ]
    },
    {
      "cell_type": "markdown",
      "source": [
        "#But what are Coefficients and Constants? -->\n",
        "\n",
        "If you have a number joint with the variable through multiplication , we call that number a coefficient.\n",
        "\n",
        "If a number is present in the polynomial which isn't attached to any variable , we call it a constant.\n",
        "\n",
        "Ex-->In the polynomial 2x^2 + 3 , 2 is the coefficient of x^2 and 3 is the constant term.\n",
        "\n",
        "Or, in x^5-1.41 , the coefficient of x^5 is 1 and -1.41 is the constant.\n",
        "\n"
      ],
      "metadata": {
        "id": "HntjyqjlpgL7"
      }
    },
    {
      "cell_type": "code",
      "source": [
        "# @title Numbers ALONG with Variables\n",
        "print(\"Identify the coefficient(s) and constant term-->\")\n",
        "print(\"x^3+x+4\")\n",
        "ex1=input(\"What is the coefficient of x^3? --> \")\n",
        "if(ex1==\"1\"):\n",
        "  print(\"Good job!\")\n",
        "  ex2=input(\"What about the constant term? --> \")\n",
        "  if(ex2==\"4\"):\n",
        "    print(\"Right on!\")\n",
        "  else:\n",
        "    print(\"Hmm..that's not right.\")\n",
        "else:\n",
        "  print(\"Woops!Try again.\")\n",
        "\n",
        "print(\"Here, try another one--> \")\n",
        "a=input(\"What's the coefficient of x^2?\")\n",
        "if(a==\"0\"):\n",
        "  print(\"I'm impressed!Since there's no x^2 in the given polynomial, you can say that the coefficient is 0 since 0 times anything is just zero.\")\n",
        "else:\n",
        "  print(\"Don' worry!\")\n",
        "  print(\"The answer is 0 ! Since there's no x^2 in the given polynomial, you can say that the coefficient is 0 since 0 times anything is just zero.\")"
      ],
      "metadata": {
        "colab": {
          "base_uri": "https://localhost:8080/"
        },
        "cellView": "form",
        "id": "mvuUOD9qqV9c",
        "outputId": "d689124c-9f63-4c6c-f403-3346917d18d8"
      },
      "execution_count": null,
      "outputs": [
        {
          "output_type": "stream",
          "name": "stdout",
          "text": [
            "Identify the coefficient(s) and constant term-->\n",
            "x^3+x+4\n",
            "What is the coefficient of x^3? --> 1\n",
            "Good job!\n",
            "What about the constant term? --> 4\n",
            "Right on!\n",
            "Here, try another one--> \n",
            "What's the coefficient of x^2?idk\n",
            "Don' worry!\n",
            "The answer is zero!Since there's no x^2 in the given polynomial, you can say that the coefficient is 0 since 0 times anything is just zero.\n"
          ]
        }
      ]
    },
    {
      "cell_type": "markdown",
      "source": [
        "#Notation (The way you represent things) -->\n",
        "\n",
        "#If you want to express a polynomial for some variable x, you can write it as p(x)= (*insert polynomial*).\n",
        "This can be read out as \"A polynomial in terms of x is equal to\".\n",
        "\n",
        "This is , perhaps , the MOST important notation you'll need for this topic.\n",
        "\n",
        "Why , you may ask?\n",
        "\n",
        "Well this is because if you have , say p(x)=x^2+(y+1)x+(2y+1) ,\n",
        "even though this may seem like a polynomial with 2 variables , it's actually described for only one variable.\n",
        "\n",
        "This is why what you put inside the bracket of p() matters , because by this logic-->\n",
        "\n",
        "#y+1 is the coefficient of x and 2y+1 is the constant term (since there's no x attached to it).\n"
      ],
      "metadata": {
        "id": "5nT0QjpgxMd6"
      }
    },
    {
      "cell_type": "code",
      "source": [
        "# @title Notation Clearness\n",
        "print(\"Say, p(x)= x^3+x^2+x+3y^2\")\n",
        "print()\n",
        "ex1=input(\"Identify the constant term ---> \")\n",
        "print()\n",
        "if(ex1==\"3y^2\"):\n",
        "  print(\"Nice! Since the polynomial is only defined for the variable x, 3y^2 would be the constant term. \")\n",
        "  print()\n",
        "  ex2=input((\"What about p(y)=x+y^3+6xy, what's the coefficient of y here? --> \"))\n",
        "  print()\n",
        "  if(ex2==\"6x\"):\n",
        "\n",
        "    print(\"Superb!Since this polynomial is defined for y, 6x would be treated as the number in multiplication with y.\")\n",
        "  else:\n",
        "    print(\"Think about it.\")\n",
        "else:\n",
        "  print(\"Try again!\")"
      ],
      "metadata": {
        "colab": {
          "base_uri": "https://localhost:8080/"
        },
        "cellView": "form",
        "id": "QC0yjwezyvIz",
        "outputId": "0a3c4362-102f-4728-97ea-26e33b444677"
      },
      "execution_count": null,
      "outputs": [
        {
          "output_type": "stream",
          "name": "stdout",
          "text": [
            "Say, p(x)= x^3+x^2+x+3y^2\n",
            "\n",
            "Identify the constant term ---> y\n",
            "\n",
            "Try again!\n"
          ]
        }
      ]
    },
    {
      "cell_type": "markdown",
      "source": [
        "#Evaluating p(variable) at certain values for the variable-->\n",
        "\n",
        "This is the most straightforward thing related to polynomials , all you've got to do is put a given number in place of x , and voila , you're back to 5th grade.\n",
        "\n",
        "Suppose that I have p(x)= x^3+x+1 , and that I was asked for p(2) , all I'd have to do is put 2 in place of x-->\n",
        "2^3+2+1\n",
        "= 8+2+1\n",
        "= 11\n",
        "\n",
        "So, I can say that p(2)=11 or \"The polynomial evaluated at x=2 gives 11.\""
      ],
      "metadata": {
        "id": "7rG-1Syi1yk8"
      }
    },
    {
      "cell_type": "code",
      "source": [
        "# @title Just Substitute\n",
        "print(\"For ex-->\")\n",
        "print()\n",
        "nu=float(input(\"p(x)= x^2+x+1, pick a value for x --> \"))\n",
        "print()\n",
        "print(f\"Evaluating--> ({nu})^2+({nu})+1\")\n",
        "print()\n",
        "def calc(v):\n",
        "  return v**2+v+1\n",
        "  print(f\"= {v**2+v+1}\")\n",
        "print()\n",
        "calc(nu)"
      ],
      "metadata": {
        "colab": {
          "base_uri": "https://localhost:8080/"
        },
        "cellView": "form",
        "id": "I3oPqdoh3Aoy",
        "outputId": "7cf2c8b1-7a90-4323-ccba-2930d39779fb"
      },
      "execution_count": null,
      "outputs": [
        {
          "output_type": "stream",
          "name": "stdout",
          "text": [
            "For ex-->\n",
            "\n",
            "p(x)= x^2+x+1, pick a value for x --> 1\n",
            "\n",
            "Evaluating--> (1.0)^2+(1.0)+1\n",
            "\n"
          ]
        },
        {
          "output_type": "execute_result",
          "data": {
            "text/plain": [
              "3.0"
            ]
          },
          "metadata": {},
          "execution_count": 82
        }
      ]
    },
    {
      "cell_type": "code",
      "source": [
        "# @title Substitution Test\n",
        "print(\"Here are some questions for you regarding evaluation--> \")\n",
        "print()\n",
        "a=input(\"If p(x)=x+2, what is p(3)? --> \")\n",
        "print()\n",
        "if(a==\"5\"):\n",
        "  print(\"Nice job!Putting in x=3 gives the answer in a jiffy.\")\n",
        "  print()\n",
        "else:\n",
        "  print(\"You're supposed to put in x=3.\")\n",
        "print()\n",
        "b=input(\"Now, if p(y)= 5y+9, what is p(8)? --> \")\n",
        "if(b==\"49\"):\n",
        "  print()\n",
        "  print(\"Bravo!\")\n",
        "else:\n",
        "  print()\n",
        "  print(\"Put in y=8\")\n",
        "print()\n",
        "print(\"Now try this one-->\")\n",
        "print()\n",
        "c=input(\"p(x)=x^2+x-1, p(y)? --> \" )\n",
        "if(c==\"y^2+y-1\"):\n",
        "  print()\n",
        "  print(\"Great!Since y is also unknown, you just have to put in x=y and you're done.\")\n",
        "else:\n",
        "  print()\n",
        "  print(\"Think about it...just put in x=y and you get y^2+y-1.\")"
      ],
      "metadata": {
        "colab": {
          "base_uri": "https://localhost:8080/"
        },
        "cellView": "form",
        "id": "uuX5XN-e3a4Y",
        "outputId": "c8f02b96-fe7c-411f-e9f9-e47b5293b0b0"
      },
      "execution_count": null,
      "outputs": [
        {
          "output_type": "stream",
          "name": "stdout",
          "text": [
            "Here are some questions for you regarding evaluation--> \n",
            "\n",
            "If p(x)=x+2, what is p(3)? --> 4\n",
            "\n",
            "You're supposed to put in x=3.\n",
            "\n",
            "Now, if p(y)= 5y+9, what is p(8)? --> 2\n",
            "\n",
            "Put in y=8\n",
            "\n",
            "Now try this one-->\n",
            "\n",
            "p(x)=x^2+x-1, p(y)?1\n",
            "\n",
            "Think about it...just put in x=y and you get y^2+y-1.\n"
          ]
        }
      ]
    },
    {
      "cell_type": "markdown",
      "source": [
        "#Test! (What, you thought there wasn't going to be one?)"
      ],
      "metadata": {
        "id": "EVjUQKST_Dm3"
      }
    },
    {
      "cell_type": "code",
      "source": [
        "# @title Here you go!\n",
        "ct=0\n",
        "print(\"Q.1\")\n",
        "q1=int(input(\"In p(x)= x^2+3x+1, what is the coefficient of x? --> \"))\n",
        "if(q1==3):\n",
        "  print()\n",
        "  print(\"✔️\")\n",
        "  ct +=1\n",
        "else:\n",
        "  print()\n",
        "  print(\"❌\")\n",
        "print()\n",
        "print(\"Q.2\")\n",
        "q2=input(\"If p(x)= x^3-x, p(3)=20 (True or False?) --> \")\n",
        "if(q2.lower()==\"false\"):\n",
        "  print()\n",
        "  print(\"✔️\")\n",
        "  ct+=1\n",
        "elif(q2.lower()==\"true\"):\n",
        "  print()\n",
        "  print(\"❌\")\n",
        "else:\n",
        "  print()\n",
        "  print(\"Invalid input.\")\n",
        "print()\n",
        "print(\"Q.3\")\n",
        "q3=int(input(\"If p(x)=-x+x^2+4, what is the sum of the coefficient of x^3 and the constant term? --> \"))\n",
        "if(q3==4):\n",
        "  print()\n",
        "  print(\"✔️\")\n",
        "  ct +=1\n",
        "else:\n",
        "  print()\n",
        "  print(\"❌\")\n",
        "print()\n",
        "print(\"Q.4\")\n",
        "q4=input(\"The variable(s) in a polynomial must have powers which are ____ numbers --> \")\n",
        "if(q4.lower()==\"whole\"):\n",
        "  print()\n",
        "  print(\"✔️\")\n",
        "  ct +=1\n",
        "else:\n",
        "  print()\n",
        "  print(\"❌\")\n",
        "print()\n",
        "print(\"Q.5\")\n",
        "q5=input(\"For a polynomial p(x)=1+x+xy, p(6)=? --> \")\n",
        "if(q5==\"7+6y\"):\n",
        "  print()\n",
        "  print(\"✔️\")\n",
        "  ct+=1\n",
        "else:\n",
        "  print()\n",
        "  print(\"❌\")\n",
        "print()\n",
        "print(\"Q.6\")\n",
        "q6=int(input(\"If p(x)= ax+b , what is the product of the coefficient of x, the coefficient of x^2 and the constant term? --> \"))\n",
        "if(q6==0):\n",
        "  print()\n",
        "  print(\"✔️\")\n",
        "  ct+=1\n",
        "else:\n",
        "  print()\n",
        "  print(\"❌\")\n",
        "print()\n",
        "print(f\"You got {ct}/6.\")\n",
        "if(ct>4 or ct==4):\n",
        "  print(\"Great job, you're on your way to improving even more!\")\n",
        "elif(ct>2 or ct==2):\n",
        "  print(\"You should go through more content for this topic\")\n",
        "elif(ct==3):\n",
        "  print(\"Try to revise.\")"
      ],
      "metadata": {
        "colab": {
          "base_uri": "https://localhost:8080/",
          "height": 389
        },
        "cellView": "form",
        "id": "sP41GHcz_PUe",
        "outputId": "6e18e417-b490-4563-b596-b9d4421eb668"
      },
      "execution_count": null,
      "outputs": [
        {
          "output_type": "stream",
          "name": "stdout",
          "text": [
            "Q.1\n"
          ]
        },
        {
          "output_type": "error",
          "ename": "KeyboardInterrupt",
          "evalue": "Interrupted by user",
          "traceback": [
            "\u001b[0;31m---------------------------------------------------------------------------\u001b[0m",
            "\u001b[0;31mKeyboardInterrupt\u001b[0m                         Traceback (most recent call last)",
            "\u001b[0;32m<ipython-input-92-8f4db48822b3>\u001b[0m in \u001b[0;36m<cell line: 4>\u001b[0;34m()\u001b[0m\n\u001b[1;32m      2\u001b[0m \u001b[0mct\u001b[0m\u001b[0;34m=\u001b[0m\u001b[0;36m0\u001b[0m\u001b[0;34m\u001b[0m\u001b[0;34m\u001b[0m\u001b[0m\n\u001b[1;32m      3\u001b[0m \u001b[0mprint\u001b[0m\u001b[0;34m(\u001b[0m\u001b[0;34m\"Q.1\"\u001b[0m\u001b[0;34m)\u001b[0m\u001b[0;34m\u001b[0m\u001b[0;34m\u001b[0m\u001b[0m\n\u001b[0;32m----> 4\u001b[0;31m \u001b[0mq1\u001b[0m\u001b[0;34m=\u001b[0m\u001b[0mint\u001b[0m\u001b[0;34m(\u001b[0m\u001b[0minput\u001b[0m\u001b[0;34m(\u001b[0m\u001b[0;34m\"In p(x)= x^2+3x+1, what is the coefficient of x? --> \"\u001b[0m\u001b[0;34m)\u001b[0m\u001b[0;34m)\u001b[0m\u001b[0;34m\u001b[0m\u001b[0;34m\u001b[0m\u001b[0m\n\u001b[0m\u001b[1;32m      5\u001b[0m \u001b[0;32mif\u001b[0m\u001b[0;34m(\u001b[0m\u001b[0mq1\u001b[0m\u001b[0;34m==\u001b[0m\u001b[0;36m3\u001b[0m\u001b[0;34m)\u001b[0m\u001b[0;34m:\u001b[0m\u001b[0;34m\u001b[0m\u001b[0;34m\u001b[0m\u001b[0m\n\u001b[1;32m      6\u001b[0m   \u001b[0mprint\u001b[0m\u001b[0;34m(\u001b[0m\u001b[0;34m)\u001b[0m\u001b[0;34m\u001b[0m\u001b[0;34m\u001b[0m\u001b[0m\n",
            "\u001b[0;32m/usr/local/lib/python3.10/dist-packages/ipykernel/kernelbase.py\u001b[0m in \u001b[0;36mraw_input\u001b[0;34m(self, prompt)\u001b[0m\n\u001b[1;32m    849\u001b[0m                 \u001b[0;34m\"raw_input was called, but this frontend does not support input requests.\"\u001b[0m\u001b[0;34m\u001b[0m\u001b[0;34m\u001b[0m\u001b[0m\n\u001b[1;32m    850\u001b[0m             )\n\u001b[0;32m--> 851\u001b[0;31m         return self._input_request(str(prompt),\n\u001b[0m\u001b[1;32m    852\u001b[0m             \u001b[0mself\u001b[0m\u001b[0;34m.\u001b[0m\u001b[0m_parent_ident\u001b[0m\u001b[0;34m,\u001b[0m\u001b[0;34m\u001b[0m\u001b[0;34m\u001b[0m\u001b[0m\n\u001b[1;32m    853\u001b[0m             \u001b[0mself\u001b[0m\u001b[0;34m.\u001b[0m\u001b[0m_parent_header\u001b[0m\u001b[0;34m,\u001b[0m\u001b[0;34m\u001b[0m\u001b[0;34m\u001b[0m\u001b[0m\n",
            "\u001b[0;32m/usr/local/lib/python3.10/dist-packages/ipykernel/kernelbase.py\u001b[0m in \u001b[0;36m_input_request\u001b[0;34m(self, prompt, ident, parent, password)\u001b[0m\n\u001b[1;32m    893\u001b[0m             \u001b[0;32mexcept\u001b[0m \u001b[0mKeyboardInterrupt\u001b[0m\u001b[0;34m:\u001b[0m\u001b[0;34m\u001b[0m\u001b[0;34m\u001b[0m\u001b[0m\n\u001b[1;32m    894\u001b[0m                 \u001b[0;31m# re-raise KeyboardInterrupt, to truncate traceback\u001b[0m\u001b[0;34m\u001b[0m\u001b[0;34m\u001b[0m\u001b[0m\n\u001b[0;32m--> 895\u001b[0;31m                 \u001b[0;32mraise\u001b[0m \u001b[0mKeyboardInterrupt\u001b[0m\u001b[0;34m(\u001b[0m\u001b[0;34m\"Interrupted by user\"\u001b[0m\u001b[0;34m)\u001b[0m \u001b[0;32mfrom\u001b[0m \u001b[0;32mNone\u001b[0m\u001b[0;34m\u001b[0m\u001b[0;34m\u001b[0m\u001b[0m\n\u001b[0m\u001b[1;32m    896\u001b[0m             \u001b[0;32mexcept\u001b[0m \u001b[0mException\u001b[0m \u001b[0;32mas\u001b[0m \u001b[0me\u001b[0m\u001b[0;34m:\u001b[0m\u001b[0;34m\u001b[0m\u001b[0;34m\u001b[0m\u001b[0m\n\u001b[1;32m    897\u001b[0m                 \u001b[0mself\u001b[0m\u001b[0;34m.\u001b[0m\u001b[0mlog\u001b[0m\u001b[0;34m.\u001b[0m\u001b[0mwarning\u001b[0m\u001b[0;34m(\u001b[0m\u001b[0;34m\"Invalid Message:\"\u001b[0m\u001b[0;34m,\u001b[0m \u001b[0mexc_info\u001b[0m\u001b[0;34m=\u001b[0m\u001b[0;32mTrue\u001b[0m\u001b[0;34m)\u001b[0m\u001b[0;34m\u001b[0m\u001b[0;34m\u001b[0m\u001b[0m\n",
            "\u001b[0;31mKeyboardInterrupt\u001b[0m: Interrupted by user"
          ]
        }
      ]
    },
    {
      "cell_type": "markdown",
      "source": [
        "#That's about it for the basics of polynomials , I hope to see you in the next module!"
      ],
      "metadata": {
        "id": "4_aKLTXj-l5Q"
      }
    },
    {
      "cell_type": "markdown",
      "source": [
        "#Fun with evaluation!\n",
        "\n",
        "I've made this code cell just for your amusement , put in the values you like for x (numbers only) , and see the result!"
      ],
      "metadata": {
        "id": "QHcTEhHj-JDb"
      }
    },
    {
      "cell_type": "code",
      "source": [
        "# @title Enjoy! (I know it's maths and all , but still..)\n",
        "print(\"p(x)= x^n +/- x^m +/- c\")\n",
        "print()\n",
        "nval=int(input(\"Give me a value for n. -> \"))\n",
        "print()\n",
        "if(nval>0 or mval==0):\n",
        "  plus1=input(\"+ or -? --> \")\n",
        "  print()\n",
        "  mval=int(input(\"Now give me one for m. -> \"))\n",
        "  print()\n",
        "  if(mval>0 or mval==0):\n",
        "   plus2=input(\"+ or- -? -->\")\n",
        "   print()\n",
        "   cval=float(input(\"What about c? -> \"))\n",
        "\n",
        "  if(plus1==\"+\" and plus2==\"+\"):\n",
        "   print()\n",
        "   exe=float(input(\"x = \"))\n",
        "   print()\n",
        "   print(f\"{exe}^{nval}+{exe}^{mval}+({c})={exe**(nval)+exe**(mval)+(cval)}\")\n",
        "\n",
        "  elif(plus1==\"+\" and plus2==\"-\"):\n",
        "   print()\n",
        "   exe=float(input(\"x = \"))\n",
        "   print()\n",
        "   print(f\"{exe}^{nval}+{exe}^{mval}-({c})={exe**(nval)+exe**(mval)-(cval)}\")\n",
        "\n",
        "  elif(plus1==\"-\" and plus2==\"+\"):\n",
        "   print()\n",
        "   exe=float(input(\"x = \"))\n",
        "   print()\n",
        "   print(f\"{exe}^{nval}-{exe}^{mval}+({c})={exe**(nval)-exe**(mval)+(cval)}\")\n",
        "\n",
        "  elif(plus1==\"-\" and plus2==\"-\"):\n",
        "   print()\n",
        "   exe=float(input(\"x = \"))\n",
        "   print()\n",
        "   print(f\"{exe}^{nval}-{exe}^{mval}-({c})={exe**(nval)-exe**(mval)-(cval)}\")\n",
        "\n",
        "  else:\n",
        "    print(1)\n",
        "    print(\"Invalid input(s).\")\n",
        "\n"
      ],
      "metadata": {
        "colab": {
          "base_uri": "https://localhost:8080/"
        },
        "cellView": "form",
        "id": "UZ8udm8OCatp",
        "outputId": "5c18c498-024e-4091-fdf4-f8d531ee4794"
      },
      "execution_count": null,
      "outputs": [
        {
          "output_type": "stream",
          "name": "stdout",
          "text": [
            "p(x)=x^n +/- x^m +/- c\n",
            "\n",
            "Give me a value for n. -> 1\n",
            "\n",
            "+ or -? --> -\n",
            "\n",
            "Now give me one for m. -> 1\n",
            "\n",
            "+ or- -? -->+\n",
            "\n",
            "What about c? -> 1\n",
            "\n",
            "x = 1\n",
            "\n",
            "1.0^1-1.0^1+(1)=1.0\n"
          ]
        }
      ]
    }
  ]
}